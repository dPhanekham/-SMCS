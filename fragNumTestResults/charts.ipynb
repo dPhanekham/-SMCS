{
 "cells": [
  {
   "cell_type": "markdown",
   "metadata": {},
   "source": [
    "# Tests Run with 128MB and 256 block length and distributed parity = True\n",
    "# Run in WSL on a Intel i5-2500K CPU @ 3.30GHz"
   ]
  },
  {
   "cell_type": "code",
   "execution_count": 1,
   "metadata": {},
   "outputs": [],
   "source": [
    "import pandas as pd\n",
    "import matplotlib.pyplot as plt"
   ]
  },
  {
   "cell_type": "code",
   "execution_count": 2,
   "metadata": {},
   "outputs": [
    {
     "name": "stdout",
     "output_type": "stream",
     "text": [
      "[[1685.3, 6343.54, 1030.56, 2039.74], [1591.34, 5253.88, 1125.74, 1913.18], [1617.46, 5259.7, 1298.98, 1909.02], [1710.58, 5376.76, 1509.2, 1964.8], [1644.2, 5274.36, 1697.52, 1967.22], [1693.4, 5127.34, 1984.24, 1957.16], [1705.68, 5110.02, 2171.66, 1954.18], [1656.72, 5011.02, 2246.34, 1948.16]]\n"
     ]
    }
   ],
   "source": [
    "# Open the files and get the data\n",
    "fileNames = [\"3Frag.txt\" , \"4Frag.txt\" , \"5Frag.txt\" , \"6Frag.txt\" , \"7Frag.txt\" , \"8Frag.txt\" , \"9Frag.txt\" , \"10Frag.txt\"]\n",
    "averages = []\n",
    "\n",
    "# data format: [encrypt, fragment, defragment, decrypt]\n",
    "\n",
    "for file in fileNames:\n",
    "    with open(file, \"r\") as f:\n",
    "        data = f.read()\n",
    "        data = data.split(\"\\n\")\n",
    "        data = data[:-1]\n",
    "\n",
    "        # parse numbers from data\n",
    "        for i in range(len(data)):\n",
    "            data[i] = data[i].split(\", \")\n",
    "            data[i] = [int(x) for x in data[i]]\n",
    "\n",
    "    # calculate averages by column\n",
    "    averages.append([])\n",
    "    for i in range(len(data[0])):\n",
    "        averages[-1].append(sum([x[i] for x in data]) / len(data))\n",
    "\n",
    "\n",
    "print(averages)"
   ]
  },
  {
   "cell_type": "code",
   "execution_count": 3,
   "metadata": {},
   "outputs": [
    {
     "data": {
      "image/png": "[encoded data removed]",
      "text/plain": [
       "<Figure size 432x288 with 1 Axes>"
      ]
     },
     "metadata": {
      "needs_background": "light"
     },
     "output_type": "display_data"
    }
   ],
   "source": [
    "df = pd.DataFrame(averages)\n",
    "df.columns = [\"Encrypt\", \"Fragment\", \"Defragment\", \"Decrypt\"]\n",
    "df.index = [\"3\", \"4\", \"5\", \"6\", \"7\", \"8\", \"9\", \"10\"]\n",
    "# crete a stacked bar chart\n",
    "\n",
    "df.plot.bar(stacked=True)\n",
    "\n",
    "plt.xlabel(\"Fragments\")\n",
    "plt.ylabel(\"Time (ms)\")\n",
    "plt.title(\"Fragments Test Results\")\n",
    "plt.show()\n"
   ]
  }
 ],
 "metadata": {
  "interpreter": {
   "hash": "916dbcbb3f70747c44a77c7bcd40155683ae19c65e1c03b4aa3499c5328201f1"
  },
  "kernelspec": {
   "display_name": "Python 3.8.10 64-bit",
   "language": "python",
   "name": "python3"
  },
  "language_info": {
   "codemirror_mode": {
    "name": "ipython",
    "version": 3
   },
   "file_extension": ".py",
   "mimetype": "text/x-python",
   "name": "python",
   "nbconvert_exporter": "python",
   "pygments_lexer": "ipython3",
   "version": "3.8.10"
  },
  "orig_nbformat": 4
 },
 "nbformat": 4,
 "nbformat_minor": 2
}
