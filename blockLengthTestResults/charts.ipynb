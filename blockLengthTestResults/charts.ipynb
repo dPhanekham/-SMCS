{
 "cells": [
  {
   "cell_type": "markdown",
   "metadata": {},
   "source": [
    "# Tests Run with 32MB and 4 fragments and distributed parity = True\n",
    "# Run in WSL on a Intel i5-2500K CPU @ 3.30GHz"
   ]
  },
  {
   "cell_type": "code",
   "execution_count": 2,
   "metadata": {},
   "outputs": [],
   "source": [
    "import pandas as pd\n",
    "import matplotlib.pyplot as plt"
   ]
  },
  {
   "cell_type": "code",
   "execution_count": 3,
   "metadata": {},
   "outputs": [
    {
     "name": "stdout",
     "output_type": "stream",
     "text": [
      "[[402.5, 7985.36, 2157.0, 495.46], [396.82, 4213.44, 1045.9, 479.88], [391.86, 2314.62, 575.36, 492.06], [383.52, 1174.14, 290.02, 481.78]]\n"
     ]
    }
   ],
   "source": [
    "# Open the files and get the data\n",
    "fileNames = [\"32BlockLength.txt\", \"64BlockLength.txt\", \"128BlockLength.txt\", \"256BlockLength.txt\"]\n",
    "averages = []\n",
    "\n",
    "# data format: [encrypt, fragment, defragment, decrypt]\n",
    "\n",
    "for file in fileNames:\n",
    "    with open(file, \"r\") as f:\n",
    "        data = f.read()\n",
    "        data = data.split(\"\\n\")\n",
    "        data = data[:-1]\n",
    "\n",
    "        # parse numbers from data\n",
    "        for i in range(len(data)):\n",
    "            data[i] = data[i].split(\", \")\n",
    "            data[i] = [int(x) for x in data[i]]\n",
    "\n",
    "    # calculate averages by column\n",
    "    averages.append([])\n",
    "    for i in range(len(data[0])):\n",
    "        averages[-1].append(sum([x[i] for x in data]) / len(data))\n",
    "\n",
    "\n",
    "print(averages)"
   ]
  },
  {
   "cell_type": "code",
   "execution_count": 4,
   "metadata": {},
   "outputs": [
    {
     "data": {
      "image/png": "[encoded data removed]",
      "text/plain": [
       "<Figure size 432x288 with 1 Axes>"
      ]
     },
     "metadata": {
      "needs_background": "light"
     },
     "output_type": "display_data"
    }
   ],
   "source": [
    "df = pd.DataFrame(averages)\n",
    "df.columns = [\"Encrypt\", \"Fragment\", \"Defragment\", \"Decrypt\"]\n",
    "df.index = [\"32\", \"64\", \"128\", \"256\"]\n",
    "# crete a stacked bar chart\n",
    "\n",
    "df.plot.bar(stacked=True)\n",
    "\n",
    "plt.xlabel(\"Block Length\")\n",
    "plt.ylabel(\"Time (ms)\")\n",
    "plt.title(\"Block Length Test Results\")\n",
    "plt.show()\n"
   ]
  }
 ],
 "metadata": {
  "interpreter": {
   "hash": "31f2aee4e71d21fbe5cf8b01ff0e069b9275f58929596ceb00d14d90e3e16cd6"
  },
  "kernelspec": {
   "display_name": "Python 3.8.10 64-bit",
   "language": "python",
   "name": "python3"
  },
  "language_info": {
   "codemirror_mode": {
    "name": "ipython",
    "version": 3
   },
   "file_extension": ".py",
   "mimetype": "text/x-python",
   "name": "python",
   "nbconvert_exporter": "python",
   "pygments_lexer": "ipython3",
   "version": "3.8.10"
  },
  "orig_nbformat": 4
 },
 "nbformat": 4,
 "nbformat_minor": 2
}
