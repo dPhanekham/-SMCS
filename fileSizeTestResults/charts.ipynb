{
 "cells": [
  {
   "cell_type": "markdown",
   "metadata": {},
   "source": [
    "# Tests Run with 6 fragments and 256 block length and distributed parity = True\n",
    "# Run in WSL on a Intel i5-2500K CPU @ 3.30GHz"
   ]
  },
  {
   "cell_type": "code",
   "execution_count": 1,
   "metadata": {},
   "outputs": [],
   "source": [
    "import pandas as pd\n",
    "import matplotlib.pyplot as plt"
   ]
  },
  {
   "cell_type": "code",
   "execution_count": 2,
   "metadata": {},
   "outputs": [
    {
     "name": "stdout",
     "output_type": "stream",
     "text": [
      "[[14.22, 38.76, 11.42, 15.64], [27.38, 69.36, 22.82, 30.7], [51.74, 148.78, 45.58, 57.4], [97.26, 281.78, 90.66, 110.16], [188.08, 560.08, 181.58, 226.5], [400.66, 1145.54, 380.98, 515.08], [773.56, 2469.84, 783.3, 960.02], [1614.66, 5150.96, 1462.0, 1915.28], [3234.2, 9832.34, 2992.68, 3767.28], [7599.7, 21486.7, 6005.18, 8217.86], [15203.42, 35962.18, 10981.34, 15279.4]]\n"
     ]
    }
   ],
   "source": [
    "# Open the files and get the data\n",
    "fileNames = [\"1MB.txt\", \"2MB.txt\", \"4MB.txt\", \"8MB.txt\", \"16MB.txt\", \"32MB.txt\", \"64MB.txt\", \"128MB.txt\", \"256MB.txt\", \"512MB.txt\", \"1024MB.txt\"]\n",
    "averages = []\n",
    "\n",
    "# data format: [encrypt, fragment, defragment, decrypt]\n",
    "\n",
    "for file in fileNames:\n",
    "    with open(file, \"r\") as f:\n",
    "        data = f.read()\n",
    "        data = data.split(\"\\n\")\n",
    "        data = data[:-1]\n",
    "\n",
    "        # parse numbers from data\n",
    "        for i in range(len(data)):\n",
    "            data[i] = data[i].split(\", \")\n",
    "            data[i] = [int(x) for x in data[i]]\n",
    "\n",
    "    # calculate averages by column\n",
    "    averages.append([])\n",
    "    for i in range(len(data[0])):\n",
    "        averages[-1].append(sum([x[i] for x in data]) / len(data))\n",
    "\n",
    "\n",
    "print(averages)"
   ]
  },
  {
   "cell_type": "code",
   "execution_count": 48,
   "metadata": {},
   "outputs": [
    {
     "data": {
      "image/png": "[encoded data removed]",
      "text/plain": [
       "<Figure size 432x288 with 1 Axes>"
      ]
     },
     "metadata": {
      "needs_background": "light"
     },
     "output_type": "display_data"
    }
   ],
   "source": [
    "df = pd.DataFrame(averages)\n",
    "df.columns = [\"Encrypt\", \"Fragment\", \"Defragment\", \"Decrypt\"]\n",
    "df.index = [\"1MB\", \"2MB\", \"4MB\", \"8MB\", \"16MB\", \"32MB\", \"64MB\", \"128MB\", \"256MB\", \"512MB\", \"1024MB\"]\n",
    "# crete a stacked bar chart\n",
    "\n",
    "df.plot.bar(stacked=True)\n",
    "\n",
    "plt.xlabel(\"File Size\")\n",
    "plt.ylabel(\"Time (ms)\")\n",
    "plt.title(\"File Size Test Results\")\n",
    "plt.yscale(\"log\")\n",
    "plt.show()\n"
   ]
  }
 ],
 "metadata": {
  "interpreter": {
   "hash": "31f2aee4e71d21fbe5cf8b01ff0e069b9275f58929596ceb00d14d90e3e16cd6"
  },
  "kernelspec": {
   "display_name": "Python 3.8.10 64-bit",
   "language": "python",
   "name": "python3"
  },
  "language_info": {
   "codemirror_mode": {
    "name": "ipython",
    "version": 3
   },
   "file_extension": ".py",
   "mimetype": "text/x-python",
   "name": "python",
   "nbconvert_exporter": "python",
   "pygments_lexer": "ipython3",
   "version": "3.8.10"
  },
  "orig_nbformat": 4
 },
 "nbformat": 4,
 "nbformat_minor": 2
}
